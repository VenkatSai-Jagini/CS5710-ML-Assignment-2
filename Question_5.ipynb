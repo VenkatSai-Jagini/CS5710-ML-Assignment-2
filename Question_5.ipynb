{
 "cells": [
  {
   "cell_type": "code",
   "execution_count": 4,
   "metadata": {},
   "outputs": [
    {
     "name": "stdout",
     "output_type": "stream",
     "text": [
      "No. of Upper-case characters:  3\n",
      "No. of Lower-case Characters: 12\n"
     ]
    }
   ],
   "source": [
    "def string(s):\n",
    "    uppercase=0\n",
    "    lowercase=0\n",
    "    for i in s:\n",
    "        if i.isupper():\n",
    "            uppercase+=1\n",
    "        elif i.islower():\n",
    "            lowercase+=1\n",
    "        else:\n",
    "            pass\n",
    "    print(\"No. of Upper-case characters: \", uppercase)\n",
    "    print(\"No. of Lower-case Characters:\", lowercase)\n",
    "string('The quick Brow Fox')"
   ]
  }
 ],
 "metadata": {
  "kernelspec": {
   "display_name": "Python 3",
   "language": "python",
   "name": "python3"
  },
  "language_info": {
   "codemirror_mode": {
    "name": "ipython",
    "version": 3
   },
   "file_extension": ".py",
   "mimetype": "text/x-python",
   "name": "python",
   "nbconvert_exporter": "python",
   "pygments_lexer": "ipython3",
   "version": "3.10.9"
  },
  "orig_nbformat": 4,
  "vscode": {
   "interpreter": {
    "hash": "5c1f741a4f83aa020b4b2a4d7353a073a4e5e4a855a3258a20da40294ddbf005"
   }
  }
 },
 "nbformat": 4,
 "nbformat_minor": 2
}
